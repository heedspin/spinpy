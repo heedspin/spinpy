{
 "cells": [
  {
   "cell_type": "code",
   "execution_count": null,
   "id": "c2969d31",
   "metadata": {},
   "outputs": [
    {
     "name": "stderr",
     "output_type": "stream",
     "text": [
      "UsageError: unrecognized arguments: # This enables inline plotting in Jupyter\n"
     ]
    }
   ],
   "source": [
    "from ipdb import set_trace as st\n",
    "from urllib.request import urlretrieve \n",
    "import pandas as pd\n",
    "import matplotlib.pyplot as plt\n",
    "%matplotlib inline\n",
    "\n",
    "url = \"https://raw.githubusercontent.com/MolSSI-Education/molssicheminfo/refs/heads/master/data/PubChemElements_all.csv\"\n",
    "filename = \"tmp/PubChemElements_all.csv\"\n",
    "urlretrieve(url, filename)\n",
    "df = pd.read_csv(filename)\n",
    "\n",
    "subplot = df.hist(figsize=(8, 8), edgecolor=\"black\", grid=False)\n",
    "plt.savefig('tmp/histogram.png', dpi=300, bbox_inches='tight')\n",
    "plt.show()"
   ]
  }
 ],
 "metadata": {
  "kernelspec": {
   "display_name": "Python 3",
   "language": "python",
   "name": "python3"
  },
  "language_info": {
   "codemirror_mode": {
    "name": "ipython",
    "version": 3
   },
   "file_extension": ".py",
   "mimetype": "text/x-python",
   "name": "python",
   "nbconvert_exporter": "python",
   "pygments_lexer": "ipython3",
   "version": "3.12.11"
  }
 },
 "nbformat": 4,
 "nbformat_minor": 5
}
